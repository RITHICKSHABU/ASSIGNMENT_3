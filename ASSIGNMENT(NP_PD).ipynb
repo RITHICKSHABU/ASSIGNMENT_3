{
 "cells": [
  {
   "cell_type": "code",
   "execution_count": null,
   "id": "8847fa11-55a7-40b2-aeed-0b4dbf616244",
   "metadata": {},
   "outputs": [],
   "source": [
    "1. Creating Arrays \n",
    "● Question: Using NumPy, create a 1D array of 20 random integers between 10 and \n",
    "50. Then, find the mean and standard deviation of the array. \n",
    "● Hint: Use np.random.randint() for creating 1D array"
   ]
  },
  {
   "cell_type": "code",
   "execution_count": 29,
   "id": "7c111f09-350c-4558-8368-dc434d76e62d",
   "metadata": {},
   "outputs": [
    {
     "name": "stdout",
     "output_type": "stream",
     "text": [
      "1_D ARRAY : [26 42 14 33 48 44 44 39 31 31 21 45 22 39 33 45 22 30 20 21]\n",
      "MEAN : 32.5\n",
      "STD_DEV : 10.072239075796404\n"
     ]
    }
   ],
   "source": [
    "import numpy as np\n",
    "ARRAY = np.random.randint(10,51,20)\n",
    "print(\"1_D ARRAY :\",ARRAY)\n",
    "MEAN = np.mean(ARRAY)\n",
    "print(\"MEAN :\",MEAN)\n",
    "STD_DEV = np.std(ARRAY)\n",
    "print(\"STD_DEV :\",STD_DEV)"
   ]
  },
  {
   "cell_type": "code",
   "execution_count": null,
   "id": "57363732-da6a-4163-a42e-ff3e93be6d7c",
   "metadata": {},
   "outputs": [],
   "source": [
    "2. Array Reshaping \n",
    "● Question: Create a 2D NumPy array of shape (6, 5) filled with random floats \n",
    "between 0 and 1. Reshape this array to have shape (5, 6) and print both the original \n",
    "and reshaped arrays. \n",
    "● Hint: Use np.random.rand() "
   ]
  },
  {
   "cell_type": "code",
   "execution_count": 30,
   "id": "bf35bf2b-99ff-41dc-834f-4fa5cf9645de",
   "metadata": {},
   "outputs": [
    {
     "name": "stdout",
     "output_type": "stream",
     "text": [
      "ARRAY : [[0.48396645 0.60367004 0.83837953 0.34982056 0.4298664 ]\n",
      " [0.35231796 0.91703065 0.10496615 0.93384125 0.58839509]\n",
      " [0.39757872 0.07049424 0.94236185 0.6330955  0.41550744]\n",
      " [0.26649954 0.16690591 0.60843601 0.51601723 0.92173209]\n",
      " [0.12174581 0.49934144 0.40353773 0.83141837 0.40340698]\n",
      " [0.48370833 0.01109737 0.2472107  0.70099024 0.20963142]]\n",
      "MODIFIED_ARRAY : [[0.67851036 0.83228215 0.82243737 0.60351006 0.33876087 0.96378513]\n",
      " [0.35497355 0.9614875  0.2425129  0.74141325 0.8995692  0.38137296]\n",
      " [0.13745207 0.54041805 0.85376069 0.51779781 0.08591988 0.48868927]\n",
      " [0.89392167 0.55971833 0.80819086 0.41808836 0.95222921 0.82590945]\n",
      " [0.77225907 0.06601663 0.98772348 0.70366009 0.46956478 0.10876125]]\n"
     ]
    }
   ],
   "source": [
    "import numpy as np\n",
    "ARRAY = np.random.rand(6,5)\n",
    "print(\"ARRAY :\",ARRAY)\n",
    "\n",
    "M_ARRAY = np.random.rand(5,6)\n",
    "print(\"MODIFIED_ARRAY :\",M_ARRAY)\n"
   ]
  },
  {
   "cell_type": "code",
   "execution_count": null,
   "id": "8e998b50-1c10-4df4-b9fe-df3c8c3d2b0d",
   "metadata": {},
   "outputs": [],
   "source": [
    "3. Array Indexing and Slicing \n",
    "● Question: Create a 2D array of shape (5, 5) filled with numbers from 1 to 25. \n",
    "Extract a subarray that includes rows 2 to 4 and columns 1 to 3. \n",
    "● Hint: Use np.arange() and slicing techniques."
   ]
  },
  {
   "cell_type": "code",
   "execution_count": 31,
   "id": "22607df3-f33a-42ab-b385-e78866906865",
   "metadata": {},
   "outputs": [
    {
     "name": "stdout",
     "output_type": "stream",
     "text": [
      "ARRAY : [[ 1  2  3  4  5]\n",
      " [ 6  7  8  9 10]\n",
      " [11 12 13 14 15]\n",
      " [16 17 18 19 20]\n",
      " [21 22 23 24 25]]\n",
      "S_ARRAY : [[ 6  7  8]\n",
      " [11 12 13]\n",
      " [16 17 18]]\n"
     ]
    }
   ],
   "source": [
    "import numpy as np \n",
    "ARRAY = np.arange(1, 26).reshape(5, 5)\n",
    "print(\"ARRAY :\",ARRAY)\n",
    "S_ARRAY = ARRAY[1:4, 0:3]\n",
    "print(\"S_ARRAY :\",S_ARRAY)\n"
   ]
  },
  {
   "cell_type": "code",
   "execution_count": null,
   "id": "d8c87436-166e-40c9-b5c5-82e8fd056eef",
   "metadata": {},
   "outputs": [],
   "source": [
    "4. Array Operations \n",
    "● Question: Generate two 1D arrays A and B, each containing 10 random integers \n",
    "between 1 and 100. Add the arrays together, then multiply the result by 2. Show \n",
    "the results of each operation. \n",
    "● Hint: Use + for addition and * for multiplication."
   ]
  },
  {
   "cell_type": "code",
   "execution_count": 32,
   "id": "1115c00e-cf7f-4e56-b4dd-9943bc1482be",
   "metadata": {},
   "outputs": [
    {
     "name": "stdout",
     "output_type": "stream",
     "text": [
      "The 1st list is\n",
      " [79 29 12 26 56  4 20 36 65  9] \n",
      "\n",
      "The 2nd list is\n",
      " [73 68 68 66 71 18 55 75 18 58] \n",
      "\n",
      "The sum of lists is\n",
      " [152  97  80  92 127  22  75 111  83  67] \n",
      "\n",
      "The sum of list * 2 is\n",
      "[304 194 160 184 254  44 150 222 166 134]\n"
     ]
    }
   ],
   "source": [
    "i = 10\n",
    "int_list1 = []\n",
    "int_list2 = []\n",
    "while(i > 0):\n",
    "    int_list1.append(np.random.randint(1,100))\n",
    "    int_list2.append(np.random.randint(1,100))\n",
    "    i -= 1\n",
    "int_list1 = np.array(int_list1)\n",
    "print(f'The 1st list is\\n {int_list1} \\n')\n",
    "int_list2 = np.array(int_list2)\n",
    "print(f'The 2nd list is\\n {int_list2} \\n')\n",
    "list1plus2 = int_list1 + int_list2\n",
    "print(f'The sum of lists is\\n {list1plus2} \\n')\n",
    "print(f'The sum of list * 2 is\\n{list1plus2 * 2}')"
   ]
  },
  {
   "cell_type": "code",
   "execution_count": null,
   "id": "f34abb1d-4b62-4b19-9fa9-67c5147bda57",
   "metadata": {},
   "outputs": [],
   "source": [
    "5. Broadcasting \n",
    "● Question: Create a 2D array A of shape (3, 4) filled with random integers between \n",
    "1 and 10. Create a 1D array B of shape (4,) with values [1, 2, 3, 4]. Add the 1D array \n",
    "to the 2D array and explain how broadcasting works in this case.\n",
    "● Hint: Use np.random.randint()."
   ]
  },
  {
   "cell_type": "code",
   "execution_count": 33,
   "id": "29113d4a-c12b-4d60-8a83-9d693a783d82",
   "metadata": {},
   "outputs": [
    {
     "name": "stdout",
     "output_type": "stream",
     "text": [
      "Array A is \n",
      " [[2 5 6 4]\n",
      " [1 2 8 6]\n",
      " [6 8 8 1]] \n",
      "\n",
      "Array B is \n",
      " [1 2 3 4] \n",
      "\n",
      "Array A + B is \n",
      " [[ 3  7  9  8]\n",
      " [ 2  4 11 10]\n",
      " [ 7 10 11  5]] \n",
      "\n"
     ]
    }
   ],
   "source": [
    "A = np.random.randint(1,10,size = (3,4))\n",
    "B = np.array([1,2,3,4])\n",
    "print(f'Array A is \\n {A} \\n')\n",
    "print(f'Array B is \\n {B} \\n')\n",
    "print(f'Array A + B is \\n {A+B} \\n')"
   ]
  },
  {
   "cell_type": "code",
   "execution_count": null,
   "id": "0bdec63c-2897-4096-8d07-b1ea142791ba",
   "metadata": {},
   "outputs": [],
   "source": [
    "6. Finding Maximum/Minimum Values \n",
    "● Question: Create a 3x3 matrix of random integers between 1 and 100. Find the \n",
    "row with the maximum sum, and then the maximum value in that row. \n",
    "● Hint: Use np.sum() and np.argmax()."
   ]
  },
  {
   "cell_type": "code",
   "execution_count": 34,
   "id": "6892fb24-52cd-4e90-8147-468927fd2fc5",
   "metadata": {},
   "outputs": [
    {
     "name": "stdout",
     "output_type": "stream",
     "text": [
      "The generated array is \n",
      "[[24 59 95]\n",
      " [ 5 36 56]\n",
      " [24 79  8]]\n",
      "\n",
      "The row having maximum sum is [24 59 95] and the sum is 178\n",
      "\n",
      "The max value in the row is 95\n"
     ]
    }
   ],
   "source": [
    "arr33 = np.random.randint(1,100,size = (3,3))\n",
    "max_sum = 0\n",
    "temp = 0\n",
    "print(f'The generated array is \\n{arr33}\\n')\n",
    "for line in arr33:\n",
    "    if np.sum(line) > max_sum:\n",
    "        temp = line\n",
    "        max_sum = np.sum(line)\n",
    "print(f'The row having maximum sum is {temp} and the sum is {max_sum}\\n')\n",
    "print(f'The max value in the row is {temp[np.argmax(temp)]}')"
   ]
  },
  {
   "cell_type": "code",
   "execution_count": null,
   "id": "86e6e4e4-5c17-4b48-90bb-7aa2b0b36036",
   "metadata": {},
   "outputs": [],
   "source": [
    "7. Linear Algebra \n",
    "● Question: Create two 2D arrays A and B, both of shape (2, 2), filled with random \n",
    "integers. Compute the matrix multiplication of A and B using np.dot(). \n",
    "● Hint: Use np.random.randint() and np.dot(). "
   ]
  },
  {
   "cell_type": "code",
   "execution_count": 35,
   "id": "b2eed383-4809-4d20-80c1-bbb6fa509165",
   "metadata": {},
   "outputs": [
    {
     "name": "stdout",
     "output_type": "stream",
     "text": [
      "Array A is \n",
      " [[13 97]\n",
      " [72 42]] \n",
      "\n",
      "Array B is \n",
      " [[23 67]\n",
      " [58 79]] \n",
      "\n",
      "The dot product is \n",
      " [[5925 8534]\n",
      " [4092 8142]] \n",
      "\n"
     ]
    }
   ],
   "source": [
    "Arr_A = np.random.randint(1,100,size = (2,2))\n",
    "Arr_B = np.random.randint(1,100,size = (2,2))\n",
    "Arr_dot = np.dot(Arr_A,Arr_B)\n",
    "print(f'Array A is \\n {Arr_A} \\n')\n",
    "print(f'Array B is \\n {Arr_B} \\n')\n",
    "print(f'The dot product is \\n {Arr_dot} \\n')"
   ]
  },
  {
   "cell_type": "code",
   "execution_count": null,
   "id": "8e6894c0-f054-49b5-9b21-c8316e947bc1",
   "metadata": {},
   "outputs": [],
   "source": [
    "8. Boolean Indexing \n",
    "● Question: Create an array of shape (6, 6) with random integers between 1 and 50. \n",
    "Using boolean indexing, extract all values greater than 25. \n",
    "● Hint: Use boolean conditions like array > 25."
   ]
  },
  {
   "cell_type": "code",
   "execution_count": 36,
   "id": "07ec6a95-d026-49b0-8eb4-f1adbe9c2d59",
   "metadata": {},
   "outputs": [
    {
     "name": "stdout",
     "output_type": "stream",
     "text": [
      "Boolean Indexing:\n",
      " [[ True False False False False False]\n",
      " [False  True False False False False]\n",
      " [False False  True  True  True  True]\n",
      " [False  True False  True  True False]\n",
      " [False  True False  True  True  True]\n",
      " [ True False False  True False  True]] \n",
      "\n",
      "The values greater than 25 is:\n",
      "36,41,45,46,26,45,46,34,46,36,46,28,32,38,48,42,"
     ]
    }
   ],
   "source": [
    "arr_1 = np.random.randint(1,50,size = (6,6))\n",
    "print('Boolean Indexing:\\n',arr_1 > 25,'\\n')\n",
    "print('The values greater than 25 is:')\n",
    "for row in arr_1:\n",
    "    for element in row:\n",
    "        if element >25:\n",
    "            print(element, end = ',')"
   ]
  },
  {
   "cell_type": "code",
   "execution_count": null,
   "id": "8056ba04-ad08-476f-ba82-04563324b2c1",
   "metadata": {},
   "outputs": [],
   "source": [
    "9. Statistics\n",
    "● Question: Create a 5x5 array of random floats between 0 and 1. Calculate the median and variance along the columns and rows separately. ● Hint: Use np.median() and np.var() with the axis parameter."
   ]
  },
  {
   "cell_type": "code",
   "execution_count": 37,
   "id": "49568766-aec8-4ac1-adb9-17b7dbb31c10",
   "metadata": {},
   "outputs": [
    {
     "name": "stdout",
     "output_type": "stream",
     "text": [
      "The array is \n",
      "[[0.10013111 0.2151978  0.78017369 0.91221872 0.00627062]\n",
      " [0.51704606 0.12360812 0.78595084 0.72347554 0.04840994]\n",
      " [0.64084492 0.46663558 0.9227415  0.69951163 0.07398099]\n",
      " [0.98129353 0.11037642 0.57367131 0.84781088 0.70572564]\n",
      " [0.46519798 0.84893742 0.24910054 0.94195136 0.71251411]]\n",
      "\n",
      "The row wise stats are: \n",
      "\n",
      "The median of row 0 is 0.21519779662371086\n",
      "The variance of row 0 is 0.13719138417828441\n",
      "\n",
      "The median of row 1 is 0.5170460550343967\n",
      "The variance of row 1 is 0.09188451834106437\n",
      "\n",
      "The median of row 2 is 0.6408449183365752\n",
      "The variance of row 2 is 0.08050188429517838\n",
      "\n",
      "The median of row 3 is 0.7057256385780033\n",
      "The variance of row 3 is 0.08976316946946736\n",
      "\n",
      "The median of row 4 is 0.7125141076449355\n",
      "The variance of row 4 is 0.06467664690660155\n",
      "\n",
      "The column wise stats are: \n",
      "\n",
      "The median of column 0 is 0.5170460550343967\n",
      "The variance of column 0 is 0.08090249242179848\n",
      "\n",
      "The median of column 1 is 0.21519779662371086\n",
      "The variance of column 1 is 0.07786864869027106\n",
      "\n",
      "The median of column 2 is 0.7801736874151157\n",
      "The variance of column 2 is 0.05512046948387629\n",
      "\n",
      "The median of column 3 is 0.8478108827726707\n",
      "The variance of column 3 is 0.009571922388848918\n",
      "\n",
      "The median of column 4 is 0.07398099409277448\n",
      "The variance of column 4 is 0.1070000663618748\n",
      "\n"
     ]
    }
   ],
   "source": [
    "arr_ = np.random.rand(5,5)\n",
    "print(f'The array is \\n{arr_}\\n')\n",
    "print(f'The row wise stats are: \\n')\n",
    "for index,line in enumerate(arr_):\n",
    "    print(f'The median of row {index} is {np.median(line)}')\n",
    "    print(f'The variance of row {index} is {np.var(line)}\\n')\n",
    "print(f'The column wise stats are: \\n')\n",
    "for i in range(0,5):\n",
    "    temp = arr_[:,i:i+1]\n",
    "    print(f'The median of column {i} is {np.median(temp)}')\n",
    "    print(f'The variance of column {i} is {np.var(temp)}\\n')  "
   ]
  },
  {
   "cell_type": "code",
   "execution_count": null,
   "id": "6c6f8608-056f-4b57-85dd-40d064edcda4",
   "metadata": {},
   "outputs": [],
   "source": [
    "10. Element-wise Operations\n",
    "● Question: Generate a 3x3 matrix of random integers between 1 and 10. Perform the following element-wise operations: subtract 2 from each element, square each element, and compute the reciprocal of each element. ● Hint: Use standard arithmetic operations and np.reciprocal()."
   ]
  },
  {
   "cell_type": "code",
   "execution_count": 38,
   "id": "39291aeb-ab02-4a01-85bf-6c51539cf97a",
   "metadata": {},
   "outputs": [
    {
     "name": "stdout",
     "output_type": "stream",
     "text": [
      "The subtracted array is :\n",
      " [[ 1  7  2]\n",
      " [-1  0  7]\n",
      " [-1  5  6]]\n",
      "\n",
      "The squared array is :\n",
      " [[ 9 81 16]\n",
      " [ 1  4 81]\n",
      " [ 1 49 64]]\n",
      "\n",
      "The reciprocal array is :\n",
      " [[0.33333333 0.11111111 0.25      ]\n",
      " [1.         0.5        0.11111111]\n",
      " [1.         0.14285714 0.125     ]]\n"
     ]
    }
   ],
   "source": [
    "arr_random = np.random.randint(1,10,size = (3,3))\n",
    "arr_sub2 = arr_random -2\n",
    "arr_square = arr_random**2\n",
    "arr_reciprocal = (np.reciprocal(arr_random.astype(float)))\n",
    "print(f'The subtracted array is :\\n {arr_sub2}\\n')\n",
    "print(f'The squared array is :\\n {arr_square}\\n')\n",
    "print(f'The reciprocal array is :\\n {arr_reciprocal}')"
   ]
  },
  {
   "cell_type": "code",
   "execution_count": null,
   "id": "65a57eb0-cf2a-43f1-8565-3a96ce6fc8f8",
   "metadata": {},
   "outputs": [],
   "source": [
    "PANDAS:"
   ]
  },
  {
   "cell_type": "code",
   "execution_count": null,
   "id": "8d735f7b-c6c3-4f16-8891-191ac9767f44",
   "metadata": {},
   "outputs": [],
   "source": [
    "1. Basic Exploration \n",
    "Load the dataset into a Pandas DataFrame. Display: \n",
    "○ The first 10 rows \n",
    "○ The total number of rows and columns \n",
    "○ Summary statistics for numerical columns "
   ]
  },
  {
   "cell_type": "code",
   "execution_count": 40,
   "id": "a323a159-742b-493b-a323-56d0e188646d",
   "metadata": {},
   "outputs": [],
   "source": [
    "import pandas as pd\n",
    "import numpy as np\n",
    "df = pd.read_csv('auto-mpg.csv')"
   ]
  },
  {
   "cell_type": "code",
   "execution_count": 41,
   "id": "5691bb2f-fd1c-4193-a99d-339141131680",
   "metadata": {},
   "outputs": [
    {
     "data": {
      "text/html": [
       "<div>\n",
       "<style scoped>\n",
       "    .dataframe tbody tr th:only-of-type {\n",
       "        vertical-align: middle;\n",
       "    }\n",
       "\n",
       "    .dataframe tbody tr th {\n",
       "        vertical-align: top;\n",
       "    }\n",
       "\n",
       "    .dataframe thead th {\n",
       "        text-align: right;\n",
       "    }\n",
       "</style>\n",
       "<table border=\"1\" class=\"dataframe\">\n",
       "  <thead>\n",
       "    <tr style=\"text-align: right;\">\n",
       "      <th></th>\n",
       "      <th>mpg</th>\n",
       "      <th>cylinders</th>\n",
       "      <th>displacement</th>\n",
       "      <th>horsepower</th>\n",
       "      <th>weight</th>\n",
       "      <th>acceleration</th>\n",
       "      <th>model year</th>\n",
       "      <th>origin</th>\n",
       "      <th>car name</th>\n",
       "    </tr>\n",
       "  </thead>\n",
       "  <tbody>\n",
       "    <tr>\n",
       "      <th>0</th>\n",
       "      <td>18.0</td>\n",
       "      <td>8</td>\n",
       "      <td>307.0</td>\n",
       "      <td>130</td>\n",
       "      <td>3504</td>\n",
       "      <td>12.0</td>\n",
       "      <td>70</td>\n",
       "      <td>1</td>\n",
       "      <td>chevrolet chevelle malibu</td>\n",
       "    </tr>\n",
       "    <tr>\n",
       "      <th>1</th>\n",
       "      <td>15.0</td>\n",
       "      <td>8</td>\n",
       "      <td>350.0</td>\n",
       "      <td>165</td>\n",
       "      <td>3693</td>\n",
       "      <td>11.5</td>\n",
       "      <td>70</td>\n",
       "      <td>1</td>\n",
       "      <td>buick skylark 320</td>\n",
       "    </tr>\n",
       "    <tr>\n",
       "      <th>2</th>\n",
       "      <td>18.0</td>\n",
       "      <td>8</td>\n",
       "      <td>318.0</td>\n",
       "      <td>150</td>\n",
       "      <td>3436</td>\n",
       "      <td>11.0</td>\n",
       "      <td>70</td>\n",
       "      <td>1</td>\n",
       "      <td>plymouth satellite</td>\n",
       "    </tr>\n",
       "    <tr>\n",
       "      <th>3</th>\n",
       "      <td>16.0</td>\n",
       "      <td>8</td>\n",
       "      <td>304.0</td>\n",
       "      <td>150</td>\n",
       "      <td>3433</td>\n",
       "      <td>12.0</td>\n",
       "      <td>70</td>\n",
       "      <td>1</td>\n",
       "      <td>amc rebel sst</td>\n",
       "    </tr>\n",
       "    <tr>\n",
       "      <th>4</th>\n",
       "      <td>17.0</td>\n",
       "      <td>8</td>\n",
       "      <td>302.0</td>\n",
       "      <td>140</td>\n",
       "      <td>3449</td>\n",
       "      <td>10.5</td>\n",
       "      <td>70</td>\n",
       "      <td>1</td>\n",
       "      <td>ford torino</td>\n",
       "    </tr>\n",
       "    <tr>\n",
       "      <th>5</th>\n",
       "      <td>15.0</td>\n",
       "      <td>8</td>\n",
       "      <td>429.0</td>\n",
       "      <td>198</td>\n",
       "      <td>4341</td>\n",
       "      <td>10.0</td>\n",
       "      <td>70</td>\n",
       "      <td>1</td>\n",
       "      <td>ford galaxie 500</td>\n",
       "    </tr>\n",
       "    <tr>\n",
       "      <th>6</th>\n",
       "      <td>14.0</td>\n",
       "      <td>8</td>\n",
       "      <td>454.0</td>\n",
       "      <td>220</td>\n",
       "      <td>4354</td>\n",
       "      <td>9.0</td>\n",
       "      <td>70</td>\n",
       "      <td>1</td>\n",
       "      <td>chevrolet impala</td>\n",
       "    </tr>\n",
       "    <tr>\n",
       "      <th>7</th>\n",
       "      <td>14.0</td>\n",
       "      <td>8</td>\n",
       "      <td>440.0</td>\n",
       "      <td>215</td>\n",
       "      <td>4312</td>\n",
       "      <td>8.5</td>\n",
       "      <td>70</td>\n",
       "      <td>1</td>\n",
       "      <td>plymouth fury iii</td>\n",
       "    </tr>\n",
       "    <tr>\n",
       "      <th>8</th>\n",
       "      <td>14.0</td>\n",
       "      <td>8</td>\n",
       "      <td>455.0</td>\n",
       "      <td>225</td>\n",
       "      <td>4425</td>\n",
       "      <td>10.0</td>\n",
       "      <td>70</td>\n",
       "      <td>1</td>\n",
       "      <td>pontiac catalina</td>\n",
       "    </tr>\n",
       "    <tr>\n",
       "      <th>9</th>\n",
       "      <td>15.0</td>\n",
       "      <td>8</td>\n",
       "      <td>390.0</td>\n",
       "      <td>190</td>\n",
       "      <td>3850</td>\n",
       "      <td>8.5</td>\n",
       "      <td>70</td>\n",
       "      <td>1</td>\n",
       "      <td>amc ambassador dpl</td>\n",
       "    </tr>\n",
       "  </tbody>\n",
       "</table>\n",
       "</div>"
      ],
      "text/plain": [
       "    mpg  cylinders  displacement horsepower  weight  acceleration  model year  \\\n",
       "0  18.0          8         307.0        130    3504          12.0          70   \n",
       "1  15.0          8         350.0        165    3693          11.5          70   \n",
       "2  18.0          8         318.0        150    3436          11.0          70   \n",
       "3  16.0          8         304.0        150    3433          12.0          70   \n",
       "4  17.0          8         302.0        140    3449          10.5          70   \n",
       "5  15.0          8         429.0        198    4341          10.0          70   \n",
       "6  14.0          8         454.0        220    4354           9.0          70   \n",
       "7  14.0          8         440.0        215    4312           8.5          70   \n",
       "8  14.0          8         455.0        225    4425          10.0          70   \n",
       "9  15.0          8         390.0        190    3850           8.5          70   \n",
       "\n",
       "   origin                   car name  \n",
       "0       1  chevrolet chevelle malibu  \n",
       "1       1          buick skylark 320  \n",
       "2       1         plymouth satellite  \n",
       "3       1              amc rebel sst  \n",
       "4       1                ford torino  \n",
       "5       1           ford galaxie 500  \n",
       "6       1           chevrolet impala  \n",
       "7       1          plymouth fury iii  \n",
       "8       1           pontiac catalina  \n",
       "9       1         amc ambassador dpl  "
      ]
     },
     "execution_count": 41,
     "metadata": {},
     "output_type": "execute_result"
    }
   ],
   "source": [
    "df.head(10) #first 10 rows"
   ]
  },
  {
   "cell_type": "code",
   "execution_count": 42,
   "id": "a153ab94-206b-418a-bc44-30be54ae836a",
   "metadata": {},
   "outputs": [
    {
     "data": {
      "text/plain": [
       "(398, 9)"
      ]
     },
     "execution_count": 42,
     "metadata": {},
     "output_type": "execute_result"
    }
   ],
   "source": [
    "df.shape # number of rows and columns"
   ]
  },
  {
   "cell_type": "code",
   "execution_count": 43,
   "id": "59207370-8412-4665-b30d-be9f763a8c5c",
   "metadata": {},
   "outputs": [
    {
     "data": {
      "text/html": [
       "<div>\n",
       "<style scoped>\n",
       "    .dataframe tbody tr th:only-of-type {\n",
       "        vertical-align: middle;\n",
       "    }\n",
       "\n",
       "    .dataframe tbody tr th {\n",
       "        vertical-align: top;\n",
       "    }\n",
       "\n",
       "    .dataframe thead th {\n",
       "        text-align: right;\n",
       "    }\n",
       "</style>\n",
       "<table border=\"1\" class=\"dataframe\">\n",
       "  <thead>\n",
       "    <tr style=\"text-align: right;\">\n",
       "      <th></th>\n",
       "      <th>mpg</th>\n",
       "      <th>cylinders</th>\n",
       "      <th>displacement</th>\n",
       "      <th>weight</th>\n",
       "      <th>acceleration</th>\n",
       "      <th>model year</th>\n",
       "      <th>origin</th>\n",
       "    </tr>\n",
       "  </thead>\n",
       "  <tbody>\n",
       "    <tr>\n",
       "      <th>count</th>\n",
       "      <td>398.000000</td>\n",
       "      <td>398.000000</td>\n",
       "      <td>398.000000</td>\n",
       "      <td>398.000000</td>\n",
       "      <td>398.000000</td>\n",
       "      <td>398.000000</td>\n",
       "      <td>398.000000</td>\n",
       "    </tr>\n",
       "    <tr>\n",
       "      <th>mean</th>\n",
       "      <td>23.514573</td>\n",
       "      <td>5.454774</td>\n",
       "      <td>193.425879</td>\n",
       "      <td>2970.424623</td>\n",
       "      <td>15.568090</td>\n",
       "      <td>76.010050</td>\n",
       "      <td>1.572864</td>\n",
       "    </tr>\n",
       "    <tr>\n",
       "      <th>std</th>\n",
       "      <td>7.815984</td>\n",
       "      <td>1.701004</td>\n",
       "      <td>104.269838</td>\n",
       "      <td>846.841774</td>\n",
       "      <td>2.757689</td>\n",
       "      <td>3.697627</td>\n",
       "      <td>0.802055</td>\n",
       "    </tr>\n",
       "    <tr>\n",
       "      <th>min</th>\n",
       "      <td>9.000000</td>\n",
       "      <td>3.000000</td>\n",
       "      <td>68.000000</td>\n",
       "      <td>1613.000000</td>\n",
       "      <td>8.000000</td>\n",
       "      <td>70.000000</td>\n",
       "      <td>1.000000</td>\n",
       "    </tr>\n",
       "    <tr>\n",
       "      <th>25%</th>\n",
       "      <td>17.500000</td>\n",
       "      <td>4.000000</td>\n",
       "      <td>104.250000</td>\n",
       "      <td>2223.750000</td>\n",
       "      <td>13.825000</td>\n",
       "      <td>73.000000</td>\n",
       "      <td>1.000000</td>\n",
       "    </tr>\n",
       "    <tr>\n",
       "      <th>50%</th>\n",
       "      <td>23.000000</td>\n",
       "      <td>4.000000</td>\n",
       "      <td>148.500000</td>\n",
       "      <td>2803.500000</td>\n",
       "      <td>15.500000</td>\n",
       "      <td>76.000000</td>\n",
       "      <td>1.000000</td>\n",
       "    </tr>\n",
       "    <tr>\n",
       "      <th>75%</th>\n",
       "      <td>29.000000</td>\n",
       "      <td>8.000000</td>\n",
       "      <td>262.000000</td>\n",
       "      <td>3608.000000</td>\n",
       "      <td>17.175000</td>\n",
       "      <td>79.000000</td>\n",
       "      <td>2.000000</td>\n",
       "    </tr>\n",
       "    <tr>\n",
       "      <th>max</th>\n",
       "      <td>46.600000</td>\n",
       "      <td>8.000000</td>\n",
       "      <td>455.000000</td>\n",
       "      <td>5140.000000</td>\n",
       "      <td>24.800000</td>\n",
       "      <td>82.000000</td>\n",
       "      <td>3.000000</td>\n",
       "    </tr>\n",
       "  </tbody>\n",
       "</table>\n",
       "</div>"
      ],
      "text/plain": [
       "              mpg   cylinders  displacement       weight  acceleration  \\\n",
       "count  398.000000  398.000000    398.000000   398.000000    398.000000   \n",
       "mean    23.514573    5.454774    193.425879  2970.424623     15.568090   \n",
       "std      7.815984    1.701004    104.269838   846.841774      2.757689   \n",
       "min      9.000000    3.000000     68.000000  1613.000000      8.000000   \n",
       "25%     17.500000    4.000000    104.250000  2223.750000     13.825000   \n",
       "50%     23.000000    4.000000    148.500000  2803.500000     15.500000   \n",
       "75%     29.000000    8.000000    262.000000  3608.000000     17.175000   \n",
       "max     46.600000    8.000000    455.000000  5140.000000     24.800000   \n",
       "\n",
       "       model year      origin  \n",
       "count  398.000000  398.000000  \n",
       "mean    76.010050    1.572864  \n",
       "std      3.697627    0.802055  \n",
       "min     70.000000    1.000000  \n",
       "25%     73.000000    1.000000  \n",
       "50%     76.000000    1.000000  \n",
       "75%     79.000000    2.000000  \n",
       "max     82.000000    3.000000  "
      ]
     },
     "execution_count": 43,
     "metadata": {},
     "output_type": "execute_result"
    }
   ],
   "source": [
    "df.describe() #Summary statistics for numerical columns"
   ]
  },
  {
   "cell_type": "code",
   "execution_count": null,
   "id": "deafa844-fdfe-4090-a390-730a8a365ca6",
   "metadata": {},
   "outputs": [],
   "source": [
    "2. Filtering and Indexing \n",
    "Find all cars manufactured in 1975 with a weight less than 3000. Return the \n",
    "DataFrame with selected columns: car_name, weight, and mpg. "
   ]
  },
  {
   "cell_type": "code",
   "execution_count": 44,
   "id": "ee684e71-84a5-40d3-9d90-6bbdc8cb0d54",
   "metadata": {},
   "outputs": [
    {
     "name": "stdout",
     "output_type": "stream",
     "text": [
      "              car name  weight   mpg\n",
      "167     toyota corolla    2171  29.0\n",
      "168         ford pinto    2639  23.0\n",
      "169        amc gremlin    2914  20.0\n",
      "170      pontiac astro    2592  23.0\n",
      "171      toyota corona    2702  24.0\n",
      "172  volkswagen dasher    2223  25.0\n",
      "173         datsun 710    2545  24.0\n",
      "174         ford pinto    2984  18.0\n",
      "175  volkswagen rabbit    1937  29.0\n",
      "177         audi 100ls    2694  23.0\n",
      "178        peugeot 504    2957  23.0\n",
      "179        volvo 244dl    2945  22.0\n",
      "180          saab 99le    2671  25.0\n",
      "181   honda civic cvcc    1795  33.0\n"
     ]
    }
   ],
   "source": [
    "new_df = df[(df['model year'] == 75) & (df['weight'] < 3000)]\n",
    "new_df = new_df[['car name','weight','mpg']]\n",
    "print(new_df)"
   ]
  },
  {
   "cell_type": "code",
   "execution_count": null,
   "id": "0ff1bb77-e834-44a9-b64b-d8ab8db1c9c4",
   "metadata": {},
   "outputs": [],
   "source": [
    "3. Handling Missing Data \n",
    "Identify if there are any missing values in the dataset. Replace missing values in the \n",
    "horsepower column with the column's median."
   ]
  },
  {
   "cell_type": "code",
   "execution_count": 45,
   "id": "6332e6ee-19e1-4f58-938e-ea705a950b28",
   "metadata": {},
   "outputs": [
    {
     "name": "stderr",
     "output_type": "stream",
     "text": [
      "C:\\Users\\Admin\\AppData\\Local\\Temp\\ipykernel_11728\\354376812.py:2: FutureWarning: A value is trying to be set on a copy of a DataFrame or Series through chained assignment using an inplace method.\n",
      "The behavior will change in pandas 3.0. This inplace method will never work because the intermediate object on which we are setting values always behaves as a copy.\n",
      "\n",
      "For example, when doing 'df[col].method(value, inplace=True)', try using 'df.method({col: value}, inplace=True)' or df[col] = df[col].method(value) instead, to perform the operation inplace on the original object.\n",
      "\n",
      "\n",
      "  df['horsepower'].replace('?', np.nan, inplace=True)\n",
      "C:\\Users\\Admin\\AppData\\Local\\Temp\\ipykernel_11728\\354376812.py:5: FutureWarning: A value is trying to be set on a copy of a DataFrame or Series through chained assignment using an inplace method.\n",
      "The behavior will change in pandas 3.0. This inplace method will never work because the intermediate object on which we are setting values always behaves as a copy.\n",
      "\n",
      "For example, when doing 'df[col].method(value, inplace=True)', try using 'df.method({col: value}, inplace=True)' or df[col] = df[col].method(value) instead, to perform the operation inplace on the original object.\n",
      "\n",
      "\n",
      "  df['horsepower'].fillna(median_hp, inplace=True)\n"
     ]
    }
   ],
   "source": [
    "df = pd.read_csv('auto-mpg.csv')\n",
    "df['horsepower'].replace('?', np.nan, inplace=True)\n",
    "df['horsepower'] = df['horsepower'].astype(float)\n",
    "median_hp = df['horsepower'].median()\n",
    "df['horsepower'].fillna(median_hp, inplace=True)"
   ]
  },
  {
   "cell_type": "code",
   "execution_count": 46,
   "id": "71166e21-b1a4-44b8-b260-9922932706dc",
   "metadata": {},
   "outputs": [
    {
     "name": "stdout",
     "output_type": "stream",
     "text": [
      "<class 'pandas.core.frame.DataFrame'>\n",
      "RangeIndex: 398 entries, 0 to 397\n",
      "Data columns (total 9 columns):\n",
      " #   Column        Non-Null Count  Dtype  \n",
      "---  ------        --------------  -----  \n",
      " 0   mpg           398 non-null    float64\n",
      " 1   cylinders     398 non-null    int64  \n",
      " 2   displacement  398 non-null    float64\n",
      " 3   horsepower    398 non-null    float64\n",
      " 4   weight        398 non-null    int64  \n",
      " 5   acceleration  398 non-null    float64\n",
      " 6   model year    398 non-null    int64  \n",
      " 7   origin        398 non-null    int64  \n",
      " 8   car name      398 non-null    object \n",
      "dtypes: float64(4), int64(4), object(1)\n",
      "memory usage: 28.1+ KB\n"
     ]
    }
   ],
   "source": [
    "df.info()"
   ]
  },
  {
   "cell_type": "code",
   "execution_count": null,
   "id": "395a8fb4-2a43-417b-9bd6-c5077f2ff7e6",
   "metadata": {},
   "outputs": [],
   "source": [
    "4. Data Transformation \n",
    "Add a new column power_to_weight_ratio, calculated as horsepower / weight."
   ]
  },
  {
   "cell_type": "code",
   "execution_count": 47,
   "id": "c3acf19f-a0e1-47a2-b8e8-f4cdbea37c65",
   "metadata": {},
   "outputs": [],
   "source": [
    "df['power_to_weight_ratio'] = df.horsepower/df.weight"
   ]
  },
  {
   "cell_type": "code",
   "execution_count": 48,
   "id": "1446ad48-19fb-4381-a477-9de6db4a5b0a",
   "metadata": {},
   "outputs": [
    {
     "name": "stdout",
     "output_type": "stream",
     "text": [
      "<class 'pandas.core.frame.DataFrame'>\n",
      "RangeIndex: 398 entries, 0 to 397\n",
      "Data columns (total 10 columns):\n",
      " #   Column                 Non-Null Count  Dtype  \n",
      "---  ------                 --------------  -----  \n",
      " 0   mpg                    398 non-null    float64\n",
      " 1   cylinders              398 non-null    int64  \n",
      " 2   displacement           398 non-null    float64\n",
      " 3   horsepower             398 non-null    float64\n",
      " 4   weight                 398 non-null    int64  \n",
      " 5   acceleration           398 non-null    float64\n",
      " 6   model year             398 non-null    int64  \n",
      " 7   origin                 398 non-null    int64  \n",
      " 8   car name               398 non-null    object \n",
      " 9   power_to_weight_ratio  398 non-null    float64\n",
      "dtypes: float64(5), int64(4), object(1)\n",
      "memory usage: 31.2+ KB\n"
     ]
    }
   ],
   "source": [
    "df.info()"
   ]
  },
  {
   "cell_type": "code",
   "execution_count": 49,
   "id": "ba6dc250-2963-4d57-8785-7ad90f0e0ced",
   "metadata": {},
   "outputs": [
    {
     "data": {
      "text/html": [
       "<div>\n",
       "<style scoped>\n",
       "    .dataframe tbody tr th:only-of-type {\n",
       "        vertical-align: middle;\n",
       "    }\n",
       "\n",
       "    .dataframe tbody tr th {\n",
       "        vertical-align: top;\n",
       "    }\n",
       "\n",
       "    .dataframe thead th {\n",
       "        text-align: right;\n",
       "    }\n",
       "</style>\n",
       "<table border=\"1\" class=\"dataframe\">\n",
       "  <thead>\n",
       "    <tr style=\"text-align: right;\">\n",
       "      <th></th>\n",
       "      <th>power_to_weight_ratio</th>\n",
       "    </tr>\n",
       "  </thead>\n",
       "  <tbody>\n",
       "    <tr>\n",
       "      <th>0</th>\n",
       "      <td>0.037100</td>\n",
       "    </tr>\n",
       "    <tr>\n",
       "      <th>1</th>\n",
       "      <td>0.044679</td>\n",
       "    </tr>\n",
       "    <tr>\n",
       "      <th>2</th>\n",
       "      <td>0.043655</td>\n",
       "    </tr>\n",
       "    <tr>\n",
       "      <th>3</th>\n",
       "      <td>0.043694</td>\n",
       "    </tr>\n",
       "    <tr>\n",
       "      <th>4</th>\n",
       "      <td>0.040591</td>\n",
       "    </tr>\n",
       "    <tr>\n",
       "      <th>...</th>\n",
       "      <td>...</td>\n",
       "    </tr>\n",
       "    <tr>\n",
       "      <th>393</th>\n",
       "      <td>0.030824</td>\n",
       "    </tr>\n",
       "    <tr>\n",
       "      <th>394</th>\n",
       "      <td>0.024413</td>\n",
       "    </tr>\n",
       "    <tr>\n",
       "      <th>395</th>\n",
       "      <td>0.036601</td>\n",
       "    </tr>\n",
       "    <tr>\n",
       "      <th>396</th>\n",
       "      <td>0.030095</td>\n",
       "    </tr>\n",
       "    <tr>\n",
       "      <th>397</th>\n",
       "      <td>0.030147</td>\n",
       "    </tr>\n",
       "  </tbody>\n",
       "</table>\n",
       "<p>398 rows × 1 columns</p>\n",
       "</div>"
      ],
      "text/plain": [
       "     power_to_weight_ratio\n",
       "0                 0.037100\n",
       "1                 0.044679\n",
       "2                 0.043655\n",
       "3                 0.043694\n",
       "4                 0.040591\n",
       "..                     ...\n",
       "393               0.030824\n",
       "394               0.024413\n",
       "395               0.036601\n",
       "396               0.030095\n",
       "397               0.030147\n",
       "\n",
       "[398 rows x 1 columns]"
      ]
     },
     "execution_count": 49,
     "metadata": {},
     "output_type": "execute_result"
    }
   ],
   "source": [
    "df[['power_to_weight_ratio']]"
   ]
  },
  {
   "cell_type": "code",
   "execution_count": null,
   "id": "8f622c4c-88c3-4fab-94ab-8efe88c5801d",
   "metadata": {},
   "outputs": [],
   "source": [
    "5. Group By \n",
    "Group the cars by origin and calculate the mean mpg for each group."
   ]
  },
  {
   "cell_type": "code",
   "execution_count": 50,
   "id": "7b352f52-00d6-4747-9a77-f93d44785083",
   "metadata": {},
   "outputs": [
    {
     "data": {
      "text/html": [
       "<div>\n",
       "<style scoped>\n",
       "    .dataframe tbody tr th:only-of-type {\n",
       "        vertical-align: middle;\n",
       "    }\n",
       "\n",
       "    .dataframe tbody tr th {\n",
       "        vertical-align: top;\n",
       "    }\n",
       "\n",
       "    .dataframe thead th {\n",
       "        text-align: right;\n",
       "    }\n",
       "</style>\n",
       "<table border=\"1\" class=\"dataframe\">\n",
       "  <thead>\n",
       "    <tr style=\"text-align: right;\">\n",
       "      <th></th>\n",
       "      <th>origin</th>\n",
       "      <th>mpg</th>\n",
       "    </tr>\n",
       "  </thead>\n",
       "  <tbody>\n",
       "    <tr>\n",
       "      <th>0</th>\n",
       "      <td>1</td>\n",
       "      <td>20.083534</td>\n",
       "    </tr>\n",
       "    <tr>\n",
       "      <th>1</th>\n",
       "      <td>2</td>\n",
       "      <td>27.891429</td>\n",
       "    </tr>\n",
       "    <tr>\n",
       "      <th>2</th>\n",
       "      <td>3</td>\n",
       "      <td>30.450633</td>\n",
       "    </tr>\n",
       "  </tbody>\n",
       "</table>\n",
       "</div>"
      ],
      "text/plain": [
       "   origin        mpg\n",
       "0       1  20.083534\n",
       "1       2  27.891429\n",
       "2       3  30.450633"
      ]
     },
     "execution_count": 50,
     "metadata": {},
     "output_type": "execute_result"
    }
   ],
   "source": [
    "mean_mpg_by_origin = df.groupby('origin')['mpg'].mean()\n",
    "mean_mpg_by_origin.reset_index()"
   ]
  },
  {
   "cell_type": "code",
   "execution_count": null,
   "id": "d4e12411-f6bc-4992-827f-c42428be9368",
   "metadata": {},
   "outputs": [],
   "source": [
    "6. Sorting \n",
    "Sort the DataFrame by mpg in descending order and display the top 10 cars with \n",
    "the highest mpg."
   ]
  },
  {
   "cell_type": "code",
   "execution_count": 51,
   "id": "7fdb5171-24f1-4a20-9383-59e53f17b73f",
   "metadata": {},
   "outputs": [
    {
     "data": {
      "text/html": [
       "<div>\n",
       "<style scoped>\n",
       "    .dataframe tbody tr th:only-of-type {\n",
       "        vertical-align: middle;\n",
       "    }\n",
       "\n",
       "    .dataframe tbody tr th {\n",
       "        vertical-align: top;\n",
       "    }\n",
       "\n",
       "    .dataframe thead th {\n",
       "        text-align: right;\n",
       "    }\n",
       "</style>\n",
       "<table border=\"1\" class=\"dataframe\">\n",
       "  <thead>\n",
       "    <tr style=\"text-align: right;\">\n",
       "      <th></th>\n",
       "      <th>car name</th>\n",
       "      <th>weight</th>\n",
       "      <th>mpg</th>\n",
       "    </tr>\n",
       "  </thead>\n",
       "  <tbody>\n",
       "    <tr>\n",
       "      <th>322</th>\n",
       "      <td>mazda glc</td>\n",
       "      <td>2110</td>\n",
       "      <td>46.6</td>\n",
       "    </tr>\n",
       "    <tr>\n",
       "      <th>329</th>\n",
       "      <td>honda civic 1500 gl</td>\n",
       "      <td>1850</td>\n",
       "      <td>44.6</td>\n",
       "    </tr>\n",
       "    <tr>\n",
       "      <th>325</th>\n",
       "      <td>vw rabbit c (diesel)</td>\n",
       "      <td>2085</td>\n",
       "      <td>44.3</td>\n",
       "    </tr>\n",
       "    <tr>\n",
       "      <th>394</th>\n",
       "      <td>vw pickup</td>\n",
       "      <td>2130</td>\n",
       "      <td>44.0</td>\n",
       "    </tr>\n",
       "    <tr>\n",
       "      <th>326</th>\n",
       "      <td>vw dasher (diesel)</td>\n",
       "      <td>2335</td>\n",
       "      <td>43.4</td>\n",
       "    </tr>\n",
       "    <tr>\n",
       "      <th>244</th>\n",
       "      <td>volkswagen rabbit custom diesel</td>\n",
       "      <td>1985</td>\n",
       "      <td>43.1</td>\n",
       "    </tr>\n",
       "    <tr>\n",
       "      <th>309</th>\n",
       "      <td>vw rabbit</td>\n",
       "      <td>2144</td>\n",
       "      <td>41.5</td>\n",
       "    </tr>\n",
       "    <tr>\n",
       "      <th>330</th>\n",
       "      <td>renault lecar deluxe</td>\n",
       "      <td>1835</td>\n",
       "      <td>40.9</td>\n",
       "    </tr>\n",
       "    <tr>\n",
       "      <th>324</th>\n",
       "      <td>datsun 210</td>\n",
       "      <td>2110</td>\n",
       "      <td>40.8</td>\n",
       "    </tr>\n",
       "    <tr>\n",
       "      <th>247</th>\n",
       "      <td>datsun b210 gx</td>\n",
       "      <td>2070</td>\n",
       "      <td>39.4</td>\n",
       "    </tr>\n",
       "  </tbody>\n",
       "</table>\n",
       "</div>"
      ],
      "text/plain": [
       "                            car name  weight   mpg\n",
       "322                        mazda glc    2110  46.6\n",
       "329              honda civic 1500 gl    1850  44.6\n",
       "325             vw rabbit c (diesel)    2085  44.3\n",
       "394                        vw pickup    2130  44.0\n",
       "326               vw dasher (diesel)    2335  43.4\n",
       "244  volkswagen rabbit custom diesel    1985  43.1\n",
       "309                        vw rabbit    2144  41.5\n",
       "330             renault lecar deluxe    1835  40.9\n",
       "324                       datsun 210    2110  40.8\n",
       "247                   datsun b210 gx    2070  39.4"
      ]
     },
     "execution_count": 51,
     "metadata": {},
     "output_type": "execute_result"
    }
   ],
   "source": [
    "sorted_df = df.sort_values(by='mpg', ascending=False)\n",
    "top_10_mpg_cars = sorted_df.head(10)\n",
    "result_df = top_10_mpg_cars[['car name', 'weight', 'mpg']]\n",
    "result_df"
   ]
  },
  {
   "cell_type": "code",
   "execution_count": null,
   "id": "4c8e7e92-c71e-48eb-90ab-3af5111bce66",
   "metadata": {},
   "outputs": [],
   "source": [
    "Apply Function \n",
    "Create a new column performance_score using a custom function: \n",
    "def performance_score(row): \n",
    "return row['mpg'] * row['acceleration'] / row['weight'] \n",
    "7. Apply this function to each row and store the result in the new column."
   ]
  },
  {
   "cell_type": "code",
   "execution_count": 52,
   "id": "71a1ca0c-1a64-4e9f-a8b0-97c354db4a75",
   "metadata": {},
   "outputs": [
    {
     "data": {
      "text/html": [
       "<div>\n",
       "<style scoped>\n",
       "    .dataframe tbody tr th:only-of-type {\n",
       "        vertical-align: middle;\n",
       "    }\n",
       "\n",
       "    .dataframe tbody tr th {\n",
       "        vertical-align: top;\n",
       "    }\n",
       "\n",
       "    .dataframe thead th {\n",
       "        text-align: right;\n",
       "    }\n",
       "</style>\n",
       "<table border=\"1\" class=\"dataframe\">\n",
       "  <thead>\n",
       "    <tr style=\"text-align: right;\">\n",
       "      <th></th>\n",
       "      <th>index</th>\n",
       "      <th>performance_score</th>\n",
       "    </tr>\n",
       "  </thead>\n",
       "  <tbody>\n",
       "    <tr>\n",
       "      <th>0</th>\n",
       "      <td>0</td>\n",
       "      <td>0.061644</td>\n",
       "    </tr>\n",
       "    <tr>\n",
       "      <th>1</th>\n",
       "      <td>1</td>\n",
       "      <td>0.046710</td>\n",
       "    </tr>\n",
       "    <tr>\n",
       "      <th>2</th>\n",
       "      <td>2</td>\n",
       "      <td>0.057625</td>\n",
       "    </tr>\n",
       "    <tr>\n",
       "      <th>3</th>\n",
       "      <td>3</td>\n",
       "      <td>0.055928</td>\n",
       "    </tr>\n",
       "    <tr>\n",
       "      <th>4</th>\n",
       "      <td>4</td>\n",
       "      <td>0.051754</td>\n",
       "    </tr>\n",
       "    <tr>\n",
       "      <th>...</th>\n",
       "      <td>...</td>\n",
       "      <td>...</td>\n",
       "    </tr>\n",
       "    <tr>\n",
       "      <th>393</th>\n",
       "      <td>393</td>\n",
       "      <td>0.150968</td>\n",
       "    </tr>\n",
       "    <tr>\n",
       "      <th>394</th>\n",
       "      <td>394</td>\n",
       "      <td>0.508169</td>\n",
       "    </tr>\n",
       "    <tr>\n",
       "      <th>395</th>\n",
       "      <td>395</td>\n",
       "      <td>0.161743</td>\n",
       "    </tr>\n",
       "    <tr>\n",
       "      <th>396</th>\n",
       "      <td>396</td>\n",
       "      <td>0.198400</td>\n",
       "    </tr>\n",
       "    <tr>\n",
       "      <th>397</th>\n",
       "      <td>397</td>\n",
       "      <td>0.221103</td>\n",
       "    </tr>\n",
       "  </tbody>\n",
       "</table>\n",
       "<p>398 rows × 2 columns</p>\n",
       "</div>"
      ],
      "text/plain": [
       "     index  performance_score\n",
       "0        0           0.061644\n",
       "1        1           0.046710\n",
       "2        2           0.057625\n",
       "3        3           0.055928\n",
       "4        4           0.051754\n",
       "..     ...                ...\n",
       "393    393           0.150968\n",
       "394    394           0.508169\n",
       "395    395           0.161743\n",
       "396    396           0.198400\n",
       "397    397           0.221103\n",
       "\n",
       "[398 rows x 2 columns]"
      ]
     },
     "execution_count": 52,
     "metadata": {},
     "output_type": "execute_result"
    }
   ],
   "source": [
    "def performance_score(row):\n",
    "    return row['mpg'] * row['acceleration'] / row['weight']\n",
    "\n",
    "df['performance_score'] = df.apply(performance_score, axis=1)\n",
    "df['performance_score'].reset_index()"
   ]
  },
  {
   "cell_type": "code",
   "execution_count": null,
   "id": "c531e930-98d5-4ead-a814-15618ee58005",
   "metadata": {},
   "outputs": [],
   "source": [
    "8. Visualization Preparation \n",
    "Generate a summary DataFrame with: \n",
    "○ Average mpg, weight, and horsepower for each model_year."
   ]
  },
  {
   "cell_type": "code",
   "execution_count": 53,
   "id": "8231a168-448c-4de3-89bf-61504ee66078",
   "metadata": {},
   "outputs": [
    {
     "name": "stdout",
     "output_type": "stream",
     "text": [
      "    model year        mpg       weight  horsepower\n",
      "0           70  17.689655  3372.793103  147.827586\n",
      "1           71  21.250000  2995.428571  106.553571\n",
      "2           72  18.714286  3237.714286  120.178571\n",
      "3           73  17.100000  3419.025000  130.475000\n",
      "4           74  22.703704  2877.925926   94.203704\n",
      "5           75  20.266667  3176.800000  101.066667\n",
      "6           76  21.573529  3078.735294  101.117647\n",
      "7           77  23.375000  2997.357143  105.071429\n",
      "8           78  24.061111  2861.805556   99.694444\n",
      "9           79  25.093103  3055.344828  101.206897\n",
      "10          80  33.696552  2436.655172   78.586207\n",
      "11          81  30.334483  2522.931034   81.465517\n",
      "12          82  31.709677  2453.548387   81.854839\n"
     ]
    }
   ],
   "source": [
    "summary_df = df.groupby('model year').agg({'mpg': 'mean','weight': 'mean','horsepower': 'mean'}).reset_index()\n",
    "print(summary_df)"
   ]
  },
  {
   "cell_type": "code",
   "execution_count": null,
   "id": "f64765a8-24d1-4c53-92fb-991c5e77d6d9",
   "metadata": {},
   "outputs": [],
   "source": [
    "9. Exporintg Data\n",
    "Save a subset of the data containing only mpg, cylinders, horsepower, and weight for cars with mpg > 30 into a CSV file named high_mpg_cars.csv."
   ]
  },
  {
   "cell_type": "code",
   "execution_count": 54,
   "id": "90f51736-6547-4938-ad28-552c4e60d9f7",
   "metadata": {},
   "outputs": [
    {
     "name": "stdout",
     "output_type": "stream",
     "text": [
      "    index   mpg  cylinders  horsepower  weight\n",
      "0      53  31.0          4        65.0    1773\n",
      "1      54  35.0          4        69.0    1613\n",
      "2     129  31.0          4        67.0    1950\n",
      "3     131  32.0          4        65.0    1836\n",
      "4     144  31.0          4        52.0    1649\n",
      "..    ...   ...        ...         ...     ...\n",
      "80    390  32.0          4        96.0    2665\n",
      "81    391  36.0          4        84.0    2370\n",
      "82    394  44.0          4        52.0    2130\n",
      "83    395  32.0          4        84.0    2295\n",
      "84    397  31.0          4        82.0    2720\n",
      "\n",
      "[85 rows x 5 columns]\n"
     ]
    }
   ],
   "source": [
    "high_mpg_cars = df[df['mpg'] > 30]\n",
    "subset_df = high_mpg_cars[['mpg', 'cylinders', 'horsepower', 'weight']]\n",
    "subset_df.to_csv('high_mpg_cars.csv', index=False)\n",
    "print(subset_df.reset_index())"
   ]
  },
  {
   "cell_type": "code",
   "execution_count": null,
   "id": "7ba58824-eb4d-47e2-b319-87780b63c737",
   "metadata": {},
   "outputs": [],
   "source": [
    "10. Finding Anomalies \n",
    "Identify potential outliers in the mpg column using the Interquartile Range (IQR) \n",
    "method. Specifically: \n",
    "● Calculate the IQR for mpg. \n",
    "● Define outliers as values less than Q1 - 1.5 * IQR or greater than Q3 + 1.5 * \n",
    "IQR. \n",
    "● Create a DataFrame of cars classified as outliers, displaying car_name, mpg, \n",
    "and model_year. "
   ]
  },
  {
   "cell_type": "code",
   "execution_count": 56,
   "id": "15559441-e719-4872-ad33-e5197637ce5c",
   "metadata": {},
   "outputs": [
    {
     "name": "stdout",
     "output_type": "stream",
     "text": [
      "The IQR is 11.5\n",
      "\n",
      "   index   car name   mpg  model year\n",
      "0    322  mazda glc  46.6          80\n"
     ]
    }
   ],
   "source": [
    "Q1 = df['mpg'].quantile(0.25)\n",
    "Q3 = df['mpg'].quantile(0.75)\n",
    "IQR = Q3 - Q1\n",
    "print(f'The IQR is {IQR}\\n')\n",
    "L_B = Q1 - 1.5 * IQR\n",
    "U_B = Q3 + 1.5 * IQR\n",
    "OUT = df[(df['mpg'] < L_B) | (df['mpg'] > U_B)]\n",
    "OUT_df = OUT[['car name', 'mpg', 'model year']]\n",
    "print(OUT_df.reset_index())"
   ]
  }
 ],
 "metadata": {
  "kernelspec": {
   "display_name": "Python 3 (ipykernel)",
   "language": "python",
   "name": "python3"
  },
  "language_info": {
   "codemirror_mode": {
    "name": "ipython",
    "version": 3
   },
   "file_extension": ".py",
   "mimetype": "text/x-python",
   "name": "python",
   "nbconvert_exporter": "python",
   "pygments_lexer": "ipython3",
   "version": "3.12.2"
  }
 },
 "nbformat": 4,
 "nbformat_minor": 5
}
